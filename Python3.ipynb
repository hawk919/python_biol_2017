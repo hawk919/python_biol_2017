{
 "cells": [
  {
   "cell_type": "code",
   "execution_count": 9,
   "metadata": {},
   "outputs": [
    {
     "name": "stdout",
     "output_type": "stream",
     "text": [
      "Počet písmen: 52\n",
      "Počet cisel: 3\n",
      "Počet znaku: 19\n"
     ]
    }
   ],
   "source": [
    "text = 'Král řekl Honzovi: \"Ta saň má 7 hlav! Zabij ji a dostaneš 1/2 království.\"'\n",
    "pismena = set('abcdefghijklmnňopqrstuvwxyzáčďéěíóřšťúůýž') # jsem liny psat kazde pismeno do uvozovek\n",
    "cisla = set('1234567890')\n",
    "\n",
    "a = 0\n",
    "b = 0\n",
    "c = 0\n",
    "\n",
    "for x in text.lower():\n",
    "    if x in pismena:\n",
    "        a = a + 1\n",
    "    elif x in cisla:\n",
    "        b = b + 1\n",
    "    else: # co neni pismeno ani cislo musi byt znak\n",
    "        c = c + 1\n",
    "        \n",
    "print(\"Počet písmen: \" + str(a))\n",
    "print(\"Počet cisel: \" + str(b))\n",
    "print(\"Počet znaku: \" + str(c))"
   ]
  },
  {
   "cell_type": "code",
   "execution_count": 10,
   "metadata": {},
   "outputs": [
    {
     "name": "stdout",
     "output_type": "stream",
     "text": [
      "Zadej pocet let tve kocky: 83\n",
      "tve kocce je 83 let a kolik mesicu? 0\n",
      "tva kocka ma 289.0 lidskych let\n"
     ]
    }
   ],
   "source": [
    "x = float(input('Zadej pocet let tve kocky: ')) #pojmenovavam jednotlive promenne x,y,z protoze psat porad dokola months, years a human zears by bylo otravne\n",
    "y = 0\n",
    "z = 0\n",
    "\n",
    "if x - int(x) == 0: # pokud uzivatel zada 0.5 roku, nebo jine desetinne cislo, neni treba ptat se pocet mesicu \n",
    "    y = float(input(\"tve kocce je \" +str(int(x)) +\" let a kolik mesicu? \"))\n",
    "    \n",
    "x = x + y/12\n",
    "\n",
    "if x <= 1:  # predpokladam, ze na jednotlivych usecich roste pocet let linearne\n",
    "    z = x * 18\n",
    "elif x <= 2:\n",
    "    z = 18 + (x - 1) * 7\n",
    "elif x <= 5:\n",
    "    z = 25 + (x - 2) * 5\n",
    "elif x <= 10:\n",
    "    z = 40 + (x - 5) * 4\n",
    "elif x <= 15:\n",
    "    z = 60 + (x - 10) * 5\n",
    "else:\n",
    "    z = 85 + (x - 15) * 3\n",
    "    \n",
    "print(\"tva kocka ma \" + str(z) + \" lidskych let\")"
   ]
  },
  {
   "cell_type": "code",
   "execution_count": null,
   "metadata": {
    "collapsed": true
   },
   "outputs": [],
   "source": []
  }
 ],
 "metadata": {
  "kernelspec": {
   "display_name": "Python 3",
   "language": "python",
   "name": "python3"
  },
  "language_info": {
   "codemirror_mode": {
    "name": "ipython",
    "version": 3
   },
   "file_extension": ".py",
   "mimetype": "text/x-python",
   "name": "python",
   "nbconvert_exporter": "python",
   "pygments_lexer": "ipython3",
   "version": "3.6.1"
  }
 },
 "nbformat": 4,
 "nbformat_minor": 2
}
