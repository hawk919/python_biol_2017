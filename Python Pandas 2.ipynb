{
 "cells": [
  {
   "cell_type": "code",
   "execution_count": 2,
   "metadata": {
    "collapsed": true
   },
   "outputs": [],
   "source": [
    "import pandas as pd\n",
    "import numpy as np\n",
    "\n",
    "titanic = pd.read_excel('http://biostat.mc.vanderbilt.edu/wiki/pub/Main/DataSets/titanic3.xls')"
   ]
  },
  {
   "cell_type": "code",
   "execution_count": 97,
   "metadata": {},
   "outputs": [
    {
     "data": {
      "text/plain": [
       "555"
      ]
     },
     "execution_count": 97,
     "metadata": {},
     "output_type": "execute_result"
    }
   ],
   "source": [
    "a = titanic['name'].str.split(\".\" ).str.get(1).str.split(\" \" ).str.get(2).isnull().sum()\n",
    "#chlapi\n",
    "#označení spojené s jeho rodinným stavem a pohlavím (miss., mr. atd.) je vždy zakončené tečkou a po něm následuje už jen příjmení a druhé/třetí... křestní jméno. Pokud má jen jedno křestní jméno musí po rozdělení mezerami zůstat jen dva textové řetězce\n",
    "b = (titanic['name'].str.split('(').str.get(1).str.split(' ').str.get(1).str.split(')').str.get(1)==\"\").sum()\n",
    "#ženy, své celé dívčí jméno mají v závorce\n",
    "#pokud tu část se závorkou, rozdělíme podle mezer měly by ty ženy, které mají jen jedno křestní jméno být rozděleny dva řetězce(příjmení a křestní jméno), pokud jsou tam tři řetězce, má daná osoba dvě křestní jména\n",
    "#pokud má daná osoba jen jedno dívčí jméno, musí druhý textový řetězec(příjmení) zakončen závorkou, pokud tento řetězec rozdělíme závorkou \")\" a budeme požadovat druhou část (1) řetězce, dostaneme NaN pokud tam závorka nebyla (jedná se o druhé křestní jméno), pokud se jedná o příjmení jedná se o prázdný textový řetězec\n",
    "c = (titanic['name'].str.split(\".\" ).str.get(1).str.split(\" \" ).str.get(2)=='Jr').sum()\n",
    "#Jr se píše na konci jména, takže pokud je to poslední jména a má daná osoba za tečkou jen dva textové řetězce, musí mít pouze jedno křestní jméno\n",
    "d = (titanic['name'].str.split(\".\" ).str.get(1).str.split(\" \" ).str.get(2)=='IV').sum()\n",
    "#Někteří lidé mají za svým jménem pořádí (například Karel IV, Jindřich VIII)\n",
    "e = (titanic['name'].str.split(\".\" ).str.get(1).str.split(\" \" ).str.get(2)=='II').sum()\n",
    "#Další číslovka, která se objevila v seznamu z Titaniku byla V. U ní nemohu rozpoznat zda se jedná o číslovku, nebo zkratku jména\n",
    "\n",
    "OneFirstName= a+b+c+d+e\n",
    "OneFirstName"
   ]
  },
  {
   "cell_type": "code",
   "execution_count": 174,
   "metadata": {},
   "outputs": [
    {
     "data": {
      "text/plain": [
       "'13'"
      ]
     },
     "execution_count": 174,
     "metadata": {},
     "output_type": "execute_result"
    }
   ],
   "source": [
    "np.argmax(titanic.groupby('boat').name.count())"
   ]
  }
 ],
 "metadata": {
  "kernelspec": {
   "display_name": "Python 3",
   "language": "python",
   "name": "python3"
  },
  "language_info": {
   "codemirror_mode": {
    "name": "ipython",
    "version": 3
   },
   "file_extension": ".py",
   "mimetype": "text/x-python",
   "name": "python",
   "nbconvert_exporter": "python",
   "pygments_lexer": "ipython3",
   "version": "3.6.1"
  }
 },
 "nbformat": 4,
 "nbformat_minor": 2
}
