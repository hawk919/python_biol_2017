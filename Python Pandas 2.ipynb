{
 "cells": [
  {
   "cell_type": "code",
   "execution_count": 7,
   "metadata": {
    "collapsed": true
   },
   "outputs": [],
   "source": [
    "import pandas as pd\n",
    "import numpy as np\n",
    "\n",
    "titanic = pd.read_excel('http://biostat.mc.vanderbilt.edu/wiki/pub/Main/DataSets/titanic3.xls')"
   ]
  },
  {
   "cell_type": "code",
   "execution_count": 112,
   "metadata": {},
   "outputs": [
    {
     "data": {
      "text/plain": [
       "469"
      ]
     },
     "execution_count": 112,
     "metadata": {},
     "output_type": "execute_result"
    }
   ],
   "source": [
    "a = titanic['name'].str.split('(').str.get(0).str.split(' ').str.get(3).isnull().sum()\n",
    "#Každý pasažér má minimálně jedno křestní jméno, příjmení a označení spojené s jeho rodinným stavem a pohlavím (miss., mr. atd.). Pokud tedy nemá druhé křestní jméno a rozdělíme jeho atribut name podle mezer, tak získáme tři textové řetězce, pokud by se skládal ze čtyř řetězců, znamená to nejspíše, že má dvě příjmení. \n",
    "#Ženy mají za svým jménem většinou napsáno jméno manželovo, proto je třeba pracovat jenom s tou částí řetězce, které je před závorkou.\n",
    "\n",
    "b = (titanic['name'].str.split(' ').str.get(3)=='Jr').sum()\n",
    "#Jr se píše na konci jména, takže pokud je to poslední (čtvrtá část), jeho jména, musí daná osoba mít pouze jedno křestní jméno\n",
    "\n",
    "c = (titanic['name'].str.split(' ').str.get(3)=='IV').sum()\n",
    "#Někteří lidé mají za svým jménem pořádí (například Karel IV, Jindřich VIII). Pokud je čtvrtá část jeho jména rozdělená mezerami, pořadová číslovka, má daná osoba jen jedno křestní jméno \n",
    "\n",
    "d = (titanic['name'].str.split(' ').str.get(3)=='II').sum()\n",
    "#Další číslovka, která se objevila v seznamu z Titaniku byla V. U ní nemohu rozpoznat zda se jedná o číslovku, nebo zkratku jména\n",
    "\n",
    "OneFirstName= a+b+c+d\n",
    "OneFirstName"
   ]
  },
  {
   "cell_type": "code",
   "execution_count": 174,
   "metadata": {},
   "outputs": [
    {
     "data": {
      "text/plain": [
       "'13'"
      ]
     },
     "execution_count": 174,
     "metadata": {},
     "output_type": "execute_result"
    }
   ],
   "source": [
    "np.argmax(titanic.groupby('boat').name.count())"
   ]
  }
 ],
 "metadata": {
  "kernelspec": {
   "display_name": "Python 3",
   "language": "python",
   "name": "python3"
  },
  "language_info": {
   "codemirror_mode": {
    "name": "ipython",
    "version": 3
   },
   "file_extension": ".py",
   "mimetype": "text/x-python",
   "name": "python",
   "nbconvert_exporter": "python",
   "pygments_lexer": "ipython3",
   "version": "3.6.1"
  }
 },
 "nbformat": 4,
 "nbformat_minor": 2
}
