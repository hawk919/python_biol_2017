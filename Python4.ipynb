{
 "cells": [
  {
   "cell_type": "code",
   "execution_count": 13,
   "metadata": {},
   "outputs": [
    {
     "name": "stdout",
     "output_type": "stream",
     "text": [
      "0.3\n"
     ]
    }
   ],
   "source": [
    "def nucl_freq(a,str):\n",
    "    p=len([x for x in range(len(a)) if a[x] == str])\n",
    "    s=p/(len(a))\n",
    "    return(s)\n",
    "\n",
    "seq = 'ACTGAATGCT'\n",
    "a_freq = nucl_freq(seq, 'A')\n",
    "print(a_freq)\n",
    "\n",
    "\n",
    "assert nucl_freq(\"AAAAAA\",\"A\") == 1, 'zastoupení nesedí{}'.format(nucl_freq(\"AAAAAA\",\"A\"))\n",
    "assert nucl_freq(\"AABB\",\"B\") == .5, 'zastoupení nesedí{}'.format(nucl_freq(\"AAAAAA\",\"A\"))"
   ]
  },
  {
   "cell_type": "code",
   "execution_count": 14,
   "metadata": {},
   "outputs": [
    {
     "name": "stdout",
     "output_type": "stream",
     "text": [
      "{'C': 0.2, 'T': 0.3, 'A': 0.3, 'G': 0.2}\n"
     ]
    },
    {
     "ename": "AssertionError",
     "evalue": "zastoupení \"A\" nesedí{'A': 1.0}",
     "output_type": "error",
     "traceback": [
      "\u001b[1;31m---------------------------------------------------------------------------\u001b[0m",
      "\u001b[1;31mAssertionError\u001b[0m                            Traceback (most recent call last)",
      "\u001b[1;32m<ipython-input-14-7fab571af793>\u001b[0m in \u001b[0;36m<module>\u001b[1;34m()\u001b[0m\n\u001b[0;32m     11\u001b[0m \u001b[0mprint\u001b[0m\u001b[1;33m(\u001b[0m\u001b[0mfreqs\u001b[0m\u001b[1;33m)\u001b[0m\u001b[1;33m\u001b[0m\u001b[0m\n\u001b[0;32m     12\u001b[0m \u001b[1;33m\u001b[0m\u001b[0m\n\u001b[1;32m---> 13\u001b[1;33m \u001b[1;32massert\u001b[0m \u001b[0mnucl_freq_all\u001b[0m\u001b[1;33m(\u001b[0m\u001b[1;34m\"AAAAAA\"\u001b[0m\u001b[1;33m,\u001b[0m\u001b[1;34m\"A\"\u001b[0m\u001b[1;33m)\u001b[0m \u001b[1;33m==\u001b[0m \u001b[1;33m{\u001b[0m\u001b[1;34m'A'\u001b[0m\u001b[1;33m:\u001b[0m \u001b[1;36m0.5\u001b[0m\u001b[1;33m}\u001b[0m\u001b[1;33m,\u001b[0m \u001b[1;34m'zastoupení \"A\" nesedí{}'\u001b[0m\u001b[1;33m.\u001b[0m\u001b[0mformat\u001b[0m\u001b[1;33m(\u001b[0m\u001b[0mnucl_freq_all\u001b[0m\u001b[1;33m(\u001b[0m\u001b[1;34m\"AAAAAA\"\u001b[0m\u001b[1;33m,\u001b[0m\u001b[1;34m\"A\"\u001b[0m\u001b[1;33m)\u001b[0m\u001b[1;33m)\u001b[0m\u001b[1;33m\u001b[0m\u001b[0m\n\u001b[0m\u001b[0;32m     14\u001b[0m \u001b[1;32massert\u001b[0m \u001b[0mnucl_freq_all\u001b[0m\u001b[1;33m(\u001b[0m\u001b[1;34m\"AAABBB\"\u001b[0m\u001b[1;33m,\u001b[0m\u001b[1;34m\"B\"\u001b[0m\u001b[1;33m)\u001b[0m \u001b[1;33m==\u001b[0m \u001b[1;33m{\u001b[0m\u001b[1;34m'B'\u001b[0m\u001b[1;33m:\u001b[0m \u001b[1;36m0.5\u001b[0m\u001b[1;33m}\u001b[0m\u001b[1;33m,\u001b[0m \u001b[1;34m'počet nesedí{}'\u001b[0m\u001b[1;33m.\u001b[0m\u001b[0mformat\u001b[0m\u001b[1;33m(\u001b[0m\u001b[0mnucl_freq_all\u001b[0m\u001b[1;33m(\u001b[0m\u001b[1;34m\"AAABBB\"\u001b[0m\u001b[1;33m,\u001b[0m\u001b[1;34m\"B\"\u001b[0m\u001b[1;33m)\u001b[0m\u001b[1;33m)\u001b[0m\u001b[1;33m\u001b[0m\u001b[0m\n",
      "\u001b[1;31mAssertionError\u001b[0m: zastoupení \"A\" nesedí{'A': 1.0}"
     ]
    }
   ],
   "source": [
    "def nucl_freq_all(d,e):\n",
    "    b = {}\n",
    "    f = set(e)\n",
    "    for x in f:\n",
    "        a_freq = nucl_freq(d, x)\n",
    "        b[x] = a_freq\n",
    "\n",
    "    return b\n",
    "\n",
    "freqs = nucl_freq_all(seq,seq)\n",
    "print(freqs)\n",
    "\n",
    "assert nucl_freq_all(\"AAAAAA\",\"A\") == {'A': 0.5}, 'zastoupení \"A\" nesedí{}'.format(nucl_freq_all(\"AAAAAA\",\"A\"))\n",
    "assert nucl_freq_all(\"AAABBB\",\"B\") == {'B': 0.5}, 'zastoupení \"A\" nesedí{}'.format(nucl_freq_all(\"AAABBB\",\"B\"))"
   ]
  }
 ],
 "metadata": {
  "kernelspec": {
   "display_name": "Python 3",
   "language": "python",
   "name": "python3"
  },
  "language_info": {
   "codemirror_mode": {
    "name": "ipython",
    "version": 3
   },
   "file_extension": ".py",
   "mimetype": "text/x-python",
   "name": "python",
   "nbconvert_exporter": "python",
   "pygments_lexer": "ipython3",
   "version": "3.6.1"
  }
 },
 "nbformat": 4,
 "nbformat_minor": 2
}
