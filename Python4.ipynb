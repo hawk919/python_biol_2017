{
 "cells": [
  {
   "cell_type": "code",
   "execution_count": 8,
   "metadata": {},
   "outputs": [
    {
     "name": "stdout",
     "output_type": "stream",
     "text": [
      "0.3\n"
     ]
    }
   ],
   "source": [
    "def nucl_freq(a,nucl):\n",
    "    p=len([x for x in range(len(a)) if a[x] == nucl])\n",
    "    s=p/(len(a))\n",
    "    return(s)\n",
    "\n",
    "seq = 'ACTGAATGCT'\n",
    "a_freq = nucl_freq(seq, 'A')\n",
    "print(a_freq)\n",
    "\n",
    "\n",
    "assert nucl_freq(\"AAAAAA\",\"A\") == 1, 'zastoupení nesedí{}'.format(nucl_freq(\"AAAAAA\",\"A\"))\n",
    "assert nucl_freq(\"AABB\",\"B\") == .5, 'zastoupení nesedí{}'.format(nucl_freq(\"AAAAAA\",\"A\"))"
   ]
  },
  {
   "cell_type": "code",
   "execution_count": 7,
   "metadata": {},
   "outputs": [
    {
     "name": "stdout",
     "output_type": "stream",
     "text": [
      "{'C': 0.2, 'A': 0.3, 'G': 0.2, 'T': 0.3}\n"
     ]
    }
   ],
   "source": [
    "def nucl_freq_all(d):\n",
    "    b = {}\n",
    "    f = set(\"ACTG\")\n",
    "    for x in f:\n",
    "        a_freq = nucl_freq(d, x)\n",
    "        b[x] = a_freq\n",
    "\n",
    "    return b\n",
    "\n",
    "seq = 'ACTGAATGCT'\n",
    "freqs = nucl_freq_all(seq)\n",
    "print(freqs)\n",
    "\n",
    "assert nucl_freq_all(\"AAAAAA\") == {'A': 1, 'G': 0.0, 'T': 0.0,'C': 0.0}, 'zastoupení \"A\" nesedí{}'.format(nucl_freq_all(\"AAAAAA\"))\n",
    "assert nucl_freq_all(\"AAACCC\") == {'C': 0.5,'A': 0.5, 'G': 0.0, 'T': 0.0}, 'zastoupení \"A\" nesedí{}'.format(nucl_freq_all(\"AAACCC\",\"B\"))"
   ]
  },
  {
   "cell_type": "code",
   "execution_count": null,
   "metadata": {
    "collapsed": true
   },
   "outputs": [],
   "source": []
  }
 ],
 "metadata": {
  "kernelspec": {
   "display_name": "Python 3",
   "language": "python",
   "name": "python3"
  },
  "language_info": {
   "codemirror_mode": {
    "name": "ipython",
    "version": 3
   },
   "file_extension": ".py",
   "mimetype": "text/x-python",
   "name": "python",
   "nbconvert_exporter": "python",
   "pygments_lexer": "ipython3",
   "version": "3.6.1"
  }
 },
 "nbformat": 4,
 "nbformat_minor": 2
}
