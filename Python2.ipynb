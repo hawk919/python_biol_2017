{
 "cells": [
  {
   "cell_type": "code",
   "execution_count": 75,
   "metadata": {},
   "outputs": [
    {
     "name": "stdout",
     "output_type": "stream",
     "text": [
      "[['banana', 'banana', 'banana'], ['apple', 'apple'], ['mango'], ['kiwi', 'kiwi', 'kiwi', 'kiwi', 'kiwi']]\n"
     ]
    }
   ],
   "source": [
    "fruits = {'banana':3,'apple':2, 'mango':1, 'kiwi':5}\n",
    "fruits_list = []\n",
    "    \n",
    "for key, value in fruits.items():\n",
    "    fruits_list.append([key]*value)\n",
    "print(fruits_list)  "
   ]
  },
  {
   "cell_type": "code",
   "execution_count": 120,
   "metadata": {},
   "outputs": [
    {
     "name": "stdout",
     "output_type": "stream",
     "text": [
      "kiwi\n"
     ]
    }
   ],
   "source": [
    "fruits = ['banana','apple', 'mango', 'kiwi']\n",
    "fruits2 = []\n",
    "shortest_fruit='ACGT'\n",
    "\n",
    "for i in fruits:\n",
    "    fruits2.append([len(i)]+[ i] ) # do seznamu  fruits2 vkladam delku clene i a samotny clen i\n",
    "    \n",
    "fruits2.sort()  # serazuji seznam fruits2, na prvním místě je délka clenu => serazuji od nejmensiho po nejvetsi\n",
    "shortest_fruit=(fruits2[0][1]) # vybiram textovou cast prvniho clenu ze seznamu fruits2\n",
    "\n",
    "print(shortest_fruit)"
   ]
  },
  {
   "cell_type": "code",
   "execution_count": null,
   "metadata": {
    "collapsed": true
   },
   "outputs": [],
   "source": []
  },
  {
   "cell_type": "code",
   "execution_count": null,
   "metadata": {
    "collapsed": true
   },
   "outputs": [],
   "source": []
  }
 ],
 "metadata": {
  "kernelspec": {
   "display_name": "Python 3",
   "language": "python",
   "name": "python3"
  },
  "language_info": {
   "codemirror_mode": {
    "name": "ipython",
    "version": 3
   },
   "file_extension": ".py",
   "mimetype": "text/x-python",
   "name": "python",
   "nbconvert_exporter": "python",
   "pygments_lexer": "ipython3",
   "version": "3.6.1"
  }
 },
 "nbformat": 4,
 "nbformat_minor": 2
}
